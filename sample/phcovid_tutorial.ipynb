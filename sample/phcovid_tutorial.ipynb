{
  "nbformat": 4,
  "nbformat_minor": 0,
  "metadata": {
    "colab": {
      "name": "phcovid_tutorial.ipynb",
      "provenance": [],
      "collapsed_sections": [],
      "authorship_tag": "ABX9TyNXDPWfSNvNin3IFdQv8Agp",
      "include_colab_link": true
    },
    "kernelspec": {
      "name": "python3",
      "display_name": "Python 3"
    }
  },
  "cells": [
    {
      "cell_type": "markdown",
      "metadata": {
        "id": "view-in-github",
        "colab_type": "text"
      },
      "source": [
        "<a href=\"https://colab.research.google.com/github/enzoampil/BertSum/blob/master/sample/phcovid_tutorial.ipynb\" target=\"_parent\"><img src=\"https://colab.research.google.com/assets/colab-badge.svg\" alt=\"Open In Colab\"/></a>"
      ]
    },
    {
      "cell_type": "markdown",
      "metadata": {
        "id": "ItVAARHIS9aO",
        "colab_type": "text"
      },
      "source": [
        "# Setup"
      ]
    },
    {
      "cell_type": "code",
      "metadata": {
        "id": "n9GIfOEnjYhW",
        "colab_type": "code",
        "outputId": "b46c1542-42bb-45ac-8fa5-72b9c2ce93c7",
        "colab": {
          "base_uri": "https://localhost:8080/",
          "height": 599
        }
      },
      "source": [
        "!pip install phcovid"
      ],
      "execution_count": 0,
      "outputs": [
        {
          "output_type": "stream",
          "text": [
            "Collecting phcovid\n",
            "  Downloading https://files.pythonhosted.org/packages/2f/41/576f664b68e85cdf688649f21ddca3e7a2eb92ea7ba5c50de88afeeb788e/phcovid-0.0.2.2-py3-none-any.whl\n",
            "Collecting beautifulsoup4==4.8.2\n",
            "\u001b[?25l  Downloading https://files.pythonhosted.org/packages/cb/a1/c698cf319e9cfed6b17376281bd0efc6bfc8465698f54170ef60a485ab5d/beautifulsoup4-4.8.2-py3-none-any.whl (106kB)\n",
            "\u001b[K     |████████████████████████████████| 112kB 3.6MB/s \n",
            "\u001b[?25hRequirement already satisfied: pandas==0.25.3 in /usr/local/lib/python3.6/dist-packages (from phcovid) (0.25.3)\n",
            "Collecting matplotlib==3.1.2\n",
            "\u001b[?25l  Downloading https://files.pythonhosted.org/packages/4e/11/06958a2b895a3853206dea1fb2a5b11bf044f626f90745987612af9c8f2c/matplotlib-3.1.2-cp36-cp36m-manylinux1_x86_64.whl (13.1MB)\n",
            "\u001b[K     |████████████████████████████████| 13.1MB 4.5MB/s \n",
            "\u001b[?25hCollecting soupsieve>=1.2\n",
            "  Downloading https://files.pythonhosted.org/packages/05/cf/ea245e52f55823f19992447b008bcbb7f78efc5960d77f6c34b5b45b36dd/soupsieve-2.0-py2.py3-none-any.whl\n",
            "Requirement already satisfied: pytz>=2017.2 in /usr/local/lib/python3.6/dist-packages (from pandas==0.25.3->phcovid) (2018.9)\n",
            "Requirement already satisfied: numpy>=1.13.3 in /usr/local/lib/python3.6/dist-packages (from pandas==0.25.3->phcovid) (1.18.2)\n",
            "Requirement already satisfied: python-dateutil>=2.6.1 in /usr/local/lib/python3.6/dist-packages (from pandas==0.25.3->phcovid) (2.8.1)\n",
            "Requirement already satisfied: kiwisolver>=1.0.1 in /usr/local/lib/python3.6/dist-packages (from matplotlib==3.1.2->phcovid) (1.1.0)\n",
            "Requirement already satisfied: cycler>=0.10 in /usr/local/lib/python3.6/dist-packages (from matplotlib==3.1.2->phcovid) (0.10.0)\n",
            "Requirement already satisfied: pyparsing!=2.0.4,!=2.1.2,!=2.1.6,>=2.0.1 in /usr/local/lib/python3.6/dist-packages (from matplotlib==3.1.2->phcovid) (2.4.6)\n",
            "Requirement already satisfied: six>=1.5 in /usr/local/lib/python3.6/dist-packages (from python-dateutil>=2.6.1->pandas==0.25.3->phcovid) (1.12.0)\n",
            "Requirement already satisfied: setuptools in /usr/local/lib/python3.6/dist-packages (from kiwisolver>=1.0.1->matplotlib==3.1.2->phcovid) (46.0.0)\n",
            "\u001b[31mERROR: albumentations 0.1.12 has requirement imgaug<0.2.7,>=0.2.5, but you'll have imgaug 0.2.9 which is incompatible.\u001b[0m\n",
            "Installing collected packages: soupsieve, beautifulsoup4, matplotlib, phcovid\n",
            "  Found existing installation: beautifulsoup4 4.6.3\n",
            "    Uninstalling beautifulsoup4-4.6.3:\n",
            "      Successfully uninstalled beautifulsoup4-4.6.3\n",
            "  Found existing installation: matplotlib 3.2.1\n",
            "    Uninstalling matplotlib-3.2.1:\n",
            "      Successfully uninstalled matplotlib-3.2.1\n",
            "Successfully installed beautifulsoup4-4.8.2 matplotlib-3.1.2 phcovid-0.0.2.2 soupsieve-2.0\n"
          ],
          "name": "stdout"
        },
        {
          "output_type": "display_data",
          "data": {
            "application/vnd.colab-display-data+json": {
              "pip_warning": {
                "packages": [
                  "matplotlib",
                  "mpl_toolkits"
                ]
              }
            }
          },
          "metadata": {
            "tags": []
          }
        }
      ]
    },
    {
      "cell_type": "code",
      "metadata": {
        "id": "UxcvgaPtjddL",
        "colab_type": "code",
        "colab": {}
      },
      "source": [
        "from phcovid import get_cases\n",
        "from matplotlib import pyplot as plt\n",
        "import numpy as np"
      ],
      "execution_count": 0,
      "outputs": []
    },
    {
      "cell_type": "markdown",
      "metadata": {
        "id": "EM6wWjL3TBvt",
        "colab_type": "text"
      },
      "source": [
        "# Get data"
      ]
    },
    {
      "cell_type": "code",
      "metadata": {
        "id": "caxajsCujnkO",
        "colab_type": "code",
        "outputId": "218007b6-869e-497d-ca97-a9f22b61b057",
        "colab": {
          "base_uri": "https://localhost:8080/",
          "height": 51
        }
      },
      "source": [
        "%%time\n",
        "df = get_cases()"
      ],
      "execution_count": 0,
      "outputs": [
        {
          "output_type": "stream",
          "text": [
            "CPU times: user 44.4 s, sys: 153 ms, total: 44.5 s\n",
            "Wall time: 47.8 s\n"
          ],
          "name": "stdout"
        }
      ]
    },
    {
      "cell_type": "code",
      "metadata": {
        "id": "Tc2xXPB7jo0p",
        "colab_type": "code",
        "outputId": "74da86de-91d1-4c6e-9ae9-3b46257e6f6f",
        "colab": {
          "base_uri": "https://localhost:8080/",
          "height": 445
        }
      },
      "source": [
        "df.head()"
      ],
      "execution_count": 0,
      "outputs": [
        {
          "output_type": "execute_result",
          "data": {
            "text/html": [
              "<div>\n",
              "<style scoped>\n",
              "    .dataframe tbody tr th:only-of-type {\n",
              "        vertical-align: middle;\n",
              "    }\n",
              "\n",
              "    .dataframe tbody tr th {\n",
              "        vertical-align: top;\n",
              "    }\n",
              "\n",
              "    .dataframe thead th {\n",
              "        text-align: right;\n",
              "    }\n",
              "</style>\n",
              "<table border=\"1\" class=\"dataframe\">\n",
              "  <thead>\n",
              "    <tr style=\"text-align: right;\">\n",
              "      <th></th>\n",
              "      <th>case_no</th>\n",
              "      <th>age</th>\n",
              "      <th>sex</th>\n",
              "      <th>nationality</th>\n",
              "      <th>residence</th>\n",
              "      <th>travel_history</th>\n",
              "      <th>symptoms</th>\n",
              "      <th>confirmation_date</th>\n",
              "      <th>facility</th>\n",
              "      <th>latitude</th>\n",
              "      <th>longitude</th>\n",
              "      <th>status</th>\n",
              "      <th>epi_link</th>\n",
              "      <th>date</th>\n",
              "      <th>contacts</th>\n",
              "      <th>num_contacts</th>\n",
              "      <th>case_no_num</th>\n",
              "      <th>contacts_num</th>\n",
              "      <th>announcement_date</th>\n",
              "    </tr>\n",
              "  </thead>\n",
              "  <tbody>\n",
              "    <tr>\n",
              "      <th>0</th>\n",
              "      <td>PH501</td>\n",
              "      <td>60</td>\n",
              "      <td>Male</td>\n",
              "      <td>Australian</td>\n",
              "      <td>Makati City</td>\n",
              "      <td></td>\n",
              "      <td>none</td>\n",
              "      <td>2020-03-23</td>\n",
              "      <td>St. Luke's Medical Center - Global City</td>\n",
              "      <td>14.555128</td>\n",
              "      <td>121.048256</td>\n",
              "      <td>Admitted</td>\n",
              "      <td></td>\n",
              "      <td>NaT</td>\n",
              "      <td>[]</td>\n",
              "      <td>0</td>\n",
              "      <td>501</td>\n",
              "      <td>[]</td>\n",
              "      <td>2020-03-24</td>\n",
              "    </tr>\n",
              "    <tr>\n",
              "      <th>1</th>\n",
              "      <td>PH502</td>\n",
              "      <td>56</td>\n",
              "      <td>Female</td>\n",
              "      <td>Filipino</td>\n",
              "      <td>San Juan City</td>\n",
              "      <td></td>\n",
              "      <td>none</td>\n",
              "      <td>2020-03-22</td>\n",
              "      <td>Cardinal Santos Medical Center</td>\n",
              "      <td>14.597596</td>\n",
              "      <td>121.045994</td>\n",
              "      <td>Admitted</td>\n",
              "      <td></td>\n",
              "      <td>NaT</td>\n",
              "      <td>[]</td>\n",
              "      <td>0</td>\n",
              "      <td>502</td>\n",
              "      <td>[]</td>\n",
              "      <td>2020-03-29</td>\n",
              "    </tr>\n",
              "    <tr>\n",
              "      <th>2</th>\n",
              "      <td>PH503</td>\n",
              "      <td>74</td>\n",
              "      <td>Male</td>\n",
              "      <td>Filipino</td>\n",
              "      <td>San Juan City</td>\n",
              "      <td></td>\n",
              "      <td>none</td>\n",
              "      <td>2020-03-22</td>\n",
              "      <td>Cardinal Santos Medical Center</td>\n",
              "      <td>14.597596</td>\n",
              "      <td>121.045994</td>\n",
              "      <td>Admitted</td>\n",
              "      <td></td>\n",
              "      <td>NaT</td>\n",
              "      <td>[]</td>\n",
              "      <td>0</td>\n",
              "      <td>503</td>\n",
              "      <td>[]</td>\n",
              "      <td>2020-03-28</td>\n",
              "    </tr>\n",
              "    <tr>\n",
              "      <th>3</th>\n",
              "      <td>PH504</td>\n",
              "      <td>61</td>\n",
              "      <td>Male</td>\n",
              "      <td>Filipino</td>\n",
              "      <td>San Juan City</td>\n",
              "      <td></td>\n",
              "      <td>none</td>\n",
              "      <td>2020-03-22</td>\n",
              "      <td>for_validation</td>\n",
              "      <td>14.615867</td>\n",
              "      <td>120.980991</td>\n",
              "      <td>Admitted</td>\n",
              "      <td></td>\n",
              "      <td>NaT</td>\n",
              "      <td>[]</td>\n",
              "      <td>0</td>\n",
              "      <td>504</td>\n",
              "      <td>[]</td>\n",
              "      <td>2020-03-25</td>\n",
              "    </tr>\n",
              "    <tr>\n",
              "      <th>4</th>\n",
              "      <td>PH505</td>\n",
              "      <td>32</td>\n",
              "      <td>Male</td>\n",
              "      <td>Filipino</td>\n",
              "      <td>Manila City</td>\n",
              "      <td></td>\n",
              "      <td>none</td>\n",
              "      <td>2020-03-22</td>\n",
              "      <td>Cardinal Santos Medical Center</td>\n",
              "      <td>14.597596</td>\n",
              "      <td>121.045994</td>\n",
              "      <td>Admitted</td>\n",
              "      <td></td>\n",
              "      <td>NaT</td>\n",
              "      <td>[]</td>\n",
              "      <td>0</td>\n",
              "      <td>505</td>\n",
              "      <td>[]</td>\n",
              "      <td>2020-03-24</td>\n",
              "    </tr>\n",
              "  </tbody>\n",
              "</table>\n",
              "</div>"
            ],
            "text/plain": [
              "  case_no  age     sex  ... case_no_num contacts_num announcement_date\n",
              "0   PH501   60    Male  ...         501           []        2020-03-24\n",
              "1   PH502   56  Female  ...         502           []        2020-03-29\n",
              "2   PH503   74    Male  ...         503           []        2020-03-28\n",
              "3   PH504   61    Male  ...         504           []        2020-03-25\n",
              "4   PH505   32    Male  ...         505           []        2020-03-24\n",
              "\n",
              "[5 rows x 19 columns]"
            ]
          },
          "metadata": {
            "tags": []
          },
          "execution_count": 4
        }
      ]
    },
    {
      "cell_type": "code",
      "metadata": {
        "id": "JXX3tBTU6fKB",
        "colab_type": "code",
        "outputId": "7477be9f-0008-4f03-87c0-3cb843ccee4e",
        "colab": {
          "base_uri": "https://localhost:8080/",
          "height": 34
        }
      },
      "source": [
        "df.status.unique()"
      ],
      "execution_count": 0,
      "outputs": [
        {
          "output_type": "execute_result",
          "data": {
            "text/plain": [
              "array(['Admitted', 'Expired', 'Recovered'], dtype=object)"
            ]
          },
          "metadata": {
            "tags": []
          },
          "execution_count": 5
        }
      ]
    },
    {
      "cell_type": "code",
      "metadata": {
        "id": "0xh46jnf7vY1",
        "colab_type": "code",
        "outputId": "93587e80-4611-45eb-9709-4f02de0d0f9e",
        "colab": {
          "base_uri": "https://localhost:8080/",
          "height": 34
        }
      },
      "source": [
        "df.shape"
      ],
      "execution_count": 0,
      "outputs": [
        {
          "output_type": "execute_result",
          "data": {
            "text/plain": [
              "(1546, 19)"
            ]
          },
          "metadata": {
            "tags": []
          },
          "execution_count": 6
        }
      ]
    },
    {
      "cell_type": "code",
      "metadata": {
        "id": "vb34XP2LLNy8",
        "colab_type": "code",
        "outputId": "06aa4d29-432d-4850-d36e-3ffc7a880393",
        "colab": {
          "base_uri": "https://localhost:8080/",
          "height": 102
        }
      },
      "source": [
        "df.columns"
      ],
      "execution_count": 0,
      "outputs": [
        {
          "output_type": "execute_result",
          "data": {
            "text/plain": [
              "Index(['case_no', 'age', 'sex', 'nationality', 'residence', 'travel_history',\n",
              "       'symptoms', 'confirmation_date', 'facility', 'latitude', 'longitude',\n",
              "       'status', 'epi_link', 'date', 'contacts', 'num_contacts', 'case_no_num',\n",
              "       'contacts_num', 'announcement_date'],\n",
              "      dtype='object')"
            ]
          },
          "metadata": {
            "tags": []
          },
          "execution_count": 7
        }
      ]
    },
    {
      "cell_type": "markdown",
      "metadata": {
        "id": "cFRxqM7jTFQS",
        "colab_type": "text"
      },
      "source": [
        "# Save data as a csv"
      ]
    },
    {
      "cell_type": "code",
      "metadata": {
        "id": "Rwm5YOLaTOZu",
        "colab_type": "code",
        "colab": {}
      },
      "source": [
        "from google.colab import files"
      ],
      "execution_count": 0,
      "outputs": []
    },
    {
      "cell_type": "code",
      "metadata": {
        "id": "6iHfmyAYIs-z",
        "colab_type": "code",
        "colab": {}
      },
      "source": [
        "df = get_cases()\n",
        "df.to_csv('phcovid_cases.csv', index=False)"
      ],
      "execution_count": 0,
      "outputs": []
    },
    {
      "cell_type": "code",
      "metadata": {
        "id": "OjQo7-dCTIK1",
        "colab_type": "code",
        "colab": {}
      },
      "source": [
        "files.download('phcovid_cases.csv')"
      ],
      "execution_count": 0,
      "outputs": []
    },
    {
      "cell_type": "code",
      "metadata": {
        "id": "gbK4EgfeTT0H",
        "colab_type": "code",
        "colab": {}
      },
      "source": [
        ""
      ],
      "execution_count": 0,
      "outputs": []
    },
    {
      "cell_type": "markdown",
      "metadata": {
        "id": "ZJt8dLXakvEf",
        "colab_type": "text"
      },
      "source": [
        "# Plot cases over time"
      ]
    },
    {
      "cell_type": "code",
      "metadata": {
        "id": "fk6CDP7BkxSY",
        "colab_type": "code",
        "colab": {}
      },
      "source": [
        "cases = df.groupby('announcement_date').agg({'case_no': 'count'})\n",
        "cases.columns = ['new_cases']\n",
        "cases['total_cases'] = cases.cumsum()\n",
        "cases['log_total_cases'] = np.log10(cases.total_cases.values)\n",
        "cases['log_new_cases'] = np.log10(cases.new_cases.values)"
      ],
      "execution_count": 0,
      "outputs": []
    },
    {
      "cell_type": "code",
      "metadata": {
        "id": "pBgqq-R1kxVC",
        "colab_type": "code",
        "outputId": "1f8de10f-8141-4eed-a846-fe47507f4169",
        "colab": {
          "base_uri": "https://localhost:8080/",
          "height": 471
        }
      },
      "source": [
        "cases[['new_cases', 'total_cases']].plot(figsize=(12, 7))\n",
        "plt.title(\"New cases vs total COVID-19 cases in PH\", fontsize=20)"
      ],
      "execution_count": 0,
      "outputs": [
        {
          "output_type": "execute_result",
          "data": {
            "text/plain": [
              "Text(0.5, 1.0, 'New cases vs total COVID-19 cases in PH')"
            ]
          },
          "metadata": {
            "tags": []
          },
          "execution_count": 11
        },
        {
          "output_type": "display_data",
          "data": {
            "image/png": "[encoded data removed]",
            "text/plain": [
              "<Figure size 864x504 with 1 Axes>"
            ]
          },
          "metadata": {
            "tags": []
          }
        }
      ]
    },
    {
      "cell_type": "code",
      "metadata": {
        "id": "K5NMxO6Rmg0q",
        "colab_type": "code",
        "outputId": "8001ed71-687a-4e54-b274-bec0bd20e40f",
        "colab": {
          "base_uri": "https://localhost:8080/",
          "height": 481
        }
      },
      "source": [
        "ax = cases[['log_new_cases', 'log_total_cases']].plot.scatter(1, 0, figsize=(12, 7))\n",
        "plt.title(\"Log New Cases vs Log Total Cases PH\", fontsize=20)"
      ],
      "execution_count": 0,
      "outputs": [
        {
          "output_type": "execute_result",
          "data": {
            "text/plain": [
              "Text(0.5, 1.0, 'Log New Cases vs Log Total Cases PH')"
            ]
          },
          "metadata": {
            "tags": []
          },
          "execution_count": 12
        },
        {
          "output_type": "display_data",
          "data": {
            "image/png": "[encoded data removed]",
            "text/plain": [
              "<Figure size 864x504 with 1 Axes>"
            ]
          },
          "metadata": {
            "tags": []
          }
        }
      ]
    },
    {
      "cell_type": "code",
      "metadata": {
        "id": "Wro9jnUQo3Hp",
        "colab_type": "code",
        "colab": {}
      },
      "source": [
        ""
      ],
      "execution_count": 0,
      "outputs": []
    }
  ]
}